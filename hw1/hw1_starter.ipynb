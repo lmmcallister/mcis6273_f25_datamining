{
  "cells": [
    {
      "cell_type": "markdown",
      "id": "440f4ed5-37d8-4248-8bef-8337deb15ce2",
      "metadata": {
        "id": "440f4ed5-37d8-4248-8bef-8337deb15ce2"
      },
      "source": [
        "# HW1 SOLUTION : [Landon McAllister | 913335772]"
      ]
    },
    {
      "cell_type": "markdown",
      "id": "1cff700c-a716-42bc-ae1e-7c2dc0bb5251",
      "metadata": {
        "id": "1cff700c-a716-42bc-ae1e-7c2dc0bb5251"
      },
      "source": [
        "### (80%) Perform basic data engineering on the light pollution dataset.\n",
        "\n",
        "\n",
        "For our data engineering we want to broadly\n",
        "complete the following:\n",
        "\n",
        "1. combine all the GaN files into a single file and thus a\n",
        "   single Pandas DataFrame,\n",
        "2. convert specific data fields to numeric fields using\n",
        "   Pandas,\n",
        "3. combine date and time fields for easier time series evaluation,\n",
        "3. split data out of specific fields and into new simpler\n",
        "   fields,\n",
        "4. use Pandas to understand the underlying distrubution\n",
        "   of certain data.\n",
        "\n",
        "\n"
      ]
    },
    {
      "cell_type": "markdown",
      "id": "39c0a926",
      "metadata": {
        "id": "39c0a926"
      },
      "source": [
        "**&#167; Task:**  **Use the file of URLs from the first assignment to load the data from 2014-2024 and store it all into a single file.**\n"
      ]
    },
    {
      "cell_type": "code",
      "execution_count": null,
      "id": "d083bf7b-5c07-415d-9c92-9c1e499d7ab0",
      "metadata": {
        "id": "d083bf7b-5c07-415d-9c92-9c1e499d7ab0"
      },
      "outputs": [],
      "source": [
        "def assign_location(d):\n",
        "    \"\"\"\n",
        "    Reduces a string to one of four categories, depending on whether \"urban\", \"suburban\", \"rural\" or \"remote\" is in the string.\n",
        "\n",
        "    Args:\n",
        "        d (str): A string or sentence containing one or more of the target words.\n",
        "\n",
        "    Returns:\n",
        "        str: the string target or None if not foun\n",
        "    \"\"\"\n",
        "    import re\n",
        "\n",
        "    d = str(d).lower()\n",
        "    re_urban = r\"\\w*(?<![Ss]ub)urban\"\n",
        "\n",
        "    if re.match(re_urban, d):\n",
        "        return \"urban\"\n",
        "    elif \"suburban\" in d:\n",
        "        return \"suburban\"\n",
        "    elif \"rural\" in d:\n",
        "        return \"rural\"\n",
        "    elif \"remote\" in d:\n",
        "        return \"remote\""
      ]
    },
    {
      "cell_type": "code",
      "execution_count": null,
      "id": "2dcb7eff",
      "metadata": {
        "id": "2dcb7eff"
      },
      "outputs": [],
      "source": [
        "# CODE SOLUTION HERE"
      ]
    },
    {
      "cell_type": "markdown",
      "id": "8bdc2dbc",
      "metadata": {
        "id": "8bdc2dbc"
      },
      "source": [
        "**&#167; Task:**  **Convert categorical fields to numeric ones.**\n",
        "\n",
        "We will convert these to numeric values using the following guidance:\n",
        "\n",
        "* \"clear\" &#8594; 0\n",
        "* \"1/4 of sky\" &#8594; 0.25\n",
        "* \"1/2 of sky\" &#8594; 0.50\n",
        "* \"over 1/2 of sky\" &#8594; 0.75"
      ]
    },
    {
      "cell_type": "code",
      "execution_count": null,
      "id": "42c8b115",
      "metadata": {
        "id": "42c8b115"
      },
      "outputs": [],
      "source": [
        "# CODE SOLUTION HERE"
      ]
    },
    {
      "cell_type": "markdown",
      "id": "74f13d28",
      "metadata": {
        "id": "74f13d28"
      },
      "source": [
        "**&#167; Task:**  **Convert `Constellation` to numeric binary values (binarize the column).**\n"
      ]
    },
    {
      "cell_type": "code",
      "execution_count": null,
      "id": "af765a57",
      "metadata": {
        "id": "af765a57"
      },
      "outputs": [],
      "source": [
        "# CODE SOLUTION HERE"
      ]
    },
    {
      "cell_type": "markdown",
      "id": "8284cba7",
      "metadata": {
        "id": "8284cba7"
      },
      "source": [
        "**&#167; Task:**  **Create 5 binary columns `loc_urban`, `loc_suburban`, `loc_rural`, `loc_remote` and `loc_unknown`.**"
      ]
    },
    {
      "cell_type": "code",
      "execution_count": null,
      "id": "2beee9f0",
      "metadata": {
        "id": "2beee9f0"
      },
      "outputs": [],
      "source": [
        "# CODE SOLUTION HERE"
      ]
    },
    {
      "cell_type": "markdown",
      "id": "cbaa57bf",
      "metadata": {
        "id": "cbaa57bf"
      },
      "source": [
        "**&#167; Task:**  **Merge `LocalDate` and `LocalTime` and convert to a `datetime` object.**\n"
      ]
    },
    {
      "cell_type": "code",
      "execution_count": null,
      "id": "dc8422b9",
      "metadata": {
        "id": "dc8422b9"
      },
      "outputs": [],
      "source": [
        "# CODE SOLUTION HERE"
      ]
    },
    {
      "cell_type": "markdown",
      "id": "e800a922",
      "metadata": {
        "id": "e800a922"
      },
      "source": [
        "**&#167; Task:**  **Convert missing `SQMReading` values to `-1`.**"
      ]
    },
    {
      "cell_type": "code",
      "execution_count": null,
      "id": "75bed238",
      "metadata": {
        "id": "75bed238"
      },
      "outputs": [],
      "source": [
        "# CODE SOLUTION HERE"
      ]
    },
    {
      "cell_type": "markdown",
      "id": "73097abb",
      "metadata": {
        "id": "73097abb"
      },
      "source": [
        "**&#167; Task:**  **Store a new dataset file with a reduced set columns which include our numeric ones.**"
      ]
    },
    {
      "cell_type": "code",
      "execution_count": null,
      "id": "a8928c0d",
      "metadata": {
        "id": "a8928c0d"
      },
      "outputs": [],
      "source": [
        "# CODE SOLUTION HERE"
      ]
    }
  ],
  "metadata": {
    "kernelspec": {
      "display_name": "Python 3 (ipykernel)",
      "language": "python",
      "name": "python3"
    },
    "language_info": {
      "codemirror_mode": {
        "name": "ipython",
        "version": 3
      },
      "file_extension": ".py",
      "mimetype": "text/x-python",
      "name": "python",
      "nbconvert_exporter": "python",
      "pygments_lexer": "ipython3",
      "version": "3.11.4"
    },
    "colab": {
      "provenance": []
    }
  },
  "nbformat": 4,
  "nbformat_minor": 5
}